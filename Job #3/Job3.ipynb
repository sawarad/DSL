{
 "cells": [
  {
   "cell_type": "code",
   "execution_count": 37,
   "outputs": [],
   "source": [
    "from Grammar import *"
   ],
   "metadata": {
    "collapsed": false,
    "pycharm": {
     "name": "#%%\n"
    }
   }
  },
  {
   "cell_type": "markdown",
   "source": [
    "FIRST function returns set of terminals that can be deducted from non-terminal that we passed to it.\n",
    "\n",
    "First(A)\n",
    "for each rule from non-terminal A:\n",
    "if first symbol is terminal h => Add to set\n",
    "else it is a non-terminal B -> Add First(B)\n",
    "\n",
    "If it is non-terminal B - we get FIRST(B) and add to set, removing empty token"
   ],
   "metadata": {
    "collapsed": false
   }
  },
  {
   "cell_type": "code",
   "execution_count": 38,
   "outputs": [],
   "source": [
    "def first_for_all(grammar: Grammar) -> dict:\n",
    "    result_dict = {}\n",
    "\n",
    "    def first(var: Var) -> set:\n",
    "        if var in result_dict.keys():\n",
    "            # first already calculated\n",
    "            return result_dict[var]\n",
    "        else:\n",
    "            # calculate first\n",
    "            result = set()\n",
    "            has_empty = False\n",
    "            for rule in grammar.variables[var]:\n",
    "                # index is used in case all rule is a vanishing non-terminals\n",
    "                for index, symbol in enumerate(rule):\n",
    "                    if is_empty_token(symbol):\n",
    "                        has_empty = True\n",
    "\n",
    "                    if is_token(symbol):\n",
    "                        result.add(symbol)\n",
    "                        break  # there is a terminal so not all symbols are vanishing non-terminals\n",
    "                    else:  # is_var(rule_first)\n",
    "                        if symbol not in result_dict.keys():\n",
    "                            result_dict[symbol] = first(symbol)\n",
    "\n",
    "                        # will not calculate second time because rule_first now in result_dict\n",
    "                        result = result.union(first(symbol))\n",
    "\n",
    "                        if get_empty_token() not in result_dict[symbol]:\n",
    "                            break\n",
    "                        elif index == len(rule) - 1:\n",
    "                            # each symbol is a vanish non-terminal => add empty\n",
    "                            result.add(get_empty_token())\n",
    "\n",
    "            if not has_empty and result:\n",
    "                result.discard(get_empty_token())\n",
    "\n",
    "            return result\n",
    "\n",
    "    for var in grammar.variables.keys():\n",
    "        # calculate only if it is not already calculated inside call of FIRST\n",
    "        if var not in result_dict:\n",
    "            result_dict[var] = first(var)\n",
    "\n",
    "    return result_dict\n"
   ],
   "metadata": {
    "collapsed": false,
    "pycharm": {
     "name": "#%%\n"
    }
   }
  },
  {
   "cell_type": "markdown",
   "source": [
    "FOLLOW function returns set of terminals that can appear after non-terminal A during deduction\n",
    "\n",
    "Asserting that end of input is a token (0, '\\n')\n",
    "\n",
    "From the beginning it is true that FOLLOW(main_var) contains (0, '\\n')\n",
    "\n",
    "For each non-terminal, its rule\n",
    "\n",
    "if S -> (a1)A(a2) then follow(A) += first(a2)\n",
    "    if first(a2) contains empty token => follow(A) += follow(S).\n",
    "where (a1) and (a2) are some expressions (list of terminals/non-terminals)\n",
    "\n",
    "Repeat this process until result is unchanged."
   ],
   "metadata": {
    "collapsed": false
   }
  },
  {
   "cell_type": "code",
   "execution_count": 39,
   "outputs": [],
   "source": [
    "def first_for_sequence(first_dict: dict, seq: Rule):\n",
    "    result = set()\n",
    "    for symbol in seq:\n",
    "        if is_token(symbol):\n",
    "            result.add(symbol)\n",
    "            return result\n",
    "        else:  # is_var(symbol)\n",
    "            result = set.union(result, first_dict[symbol])\n",
    "            if get_empty_token() not in first_dict[symbol]:\n",
    "                return result\n",
    "            else:\n",
    "                result.discard(get_empty_token())\n",
    "\n",
    "    # each symbol has empty token in first so result should also contain empty symbol\n",
    "    result.add(get_empty_token())\n",
    "    return result\n",
    "\n",
    "\n",
    "def follow_for_all(grammar: Grammar) -> dict:\n",
    "    first_dict = first_for_all(grammar)\n",
    "\n",
    "    result_dict = {\n",
    "        non_terminal: set()\n",
    "        for non_terminal in grammar.variables.keys()\n",
    "    }\n",
    "    result_dict[grammar.main_var].add((0, '\\n'))\n",
    "\n",
    "    changed = True\n",
    "    while changed:\n",
    "        changed = False\n",
    "        for non_terminal, definition in grammar.variables.items():\n",
    "            for rule in definition:\n",
    "                for index, symbol in enumerate(rule):\n",
    "                    if is_var(symbol):\n",
    "                        prev_size = len(result_dict[symbol])\n",
    "\n",
    "                        first_set = first_for_sequence(first_dict, rule[index + 1:])\n",
    "                        if get_empty_token() in first_set:\n",
    "                            first_set.remove(get_empty_token())\n",
    "                            result_dict[symbol] = set.union(result_dict[symbol], result_dict[non_terminal])\n",
    "\n",
    "                        result_dict[symbol] = set.union(result_dict[symbol], first_set)\n",
    "\n",
    "                        new_size = len(result_dict[symbol])\n",
    "                        if new_size != prev_size:\n",
    "                            changed = True\n",
    "\n",
    "    return result_dict"
   ],
   "metadata": {
    "collapsed": false,
    "pycharm": {
     "name": "#%%\n"
    }
   }
  },
  {
   "cell_type": "code",
   "execution_count": 40,
   "outputs": [],
   "source": [
    "def main():\n",
    "    grammar = Grammar(\n",
    "        {(0, ''), (1, 'a'), (1, 'b'), (2, '+'), (2, '-'), (3, 'i')},\n",
    "        {\n",
    "            'S' : [ ['A', 'B']                             ],\n",
    "            'B' : [ [(2, '+'), 'A', 'B'], [(0, '')]        ],\n",
    "            'A' : [ ['C', 'D']                             ],\n",
    "            'C' : [ [(1, 'a'), 'S', (1, 'b')], [(3, 'i')]  ],\n",
    "            'D' : [ [(2, '-'), 'C', 'D'], [(0, '')]        ]\n",
    "        },\n",
    "        'S'\n",
    "    )\n",
    "    \n",
    "    print(first_for_all(grammar))\n",
    "    print(follow_for_all(grammar))"
   ],
   "metadata": {
    "collapsed": false,
    "pycharm": {
     "name": "#%%\n"
    }
   }
  },
  {
   "cell_type": "code",
   "execution_count": 41,
   "outputs": [
    {
     "name": "stdout",
     "output_type": "stream",
     "text": [
      "{'C': {(3, 'i'), (1, 'a')}, 'A': {(3, 'i'), (1, 'a')}, 'S': {(3, 'i'), (1, 'a')}, 'B': {(2, '+'), (0, '')}, 'D': {(2, '-'), (0, '')}}\n",
      "{'S': {(0, '\\n'), (1, 'b')}, 'B': {(0, '\\n'), (1, 'b')}, 'A': {(2, '+'), (0, '\\n'), (1, 'b')}, 'C': {(2, '+'), (2, '-'), (0, '\\n'), (1, 'b')}, 'D': {(2, '+'), (0, '\\n'), (1, 'b')}}\n"
     ]
    }
   ],
   "source": [
    "if __name__ == \"__main__\":\n",
    "    main()"
   ],
   "metadata": {
    "collapsed": false,
    "pycharm": {
     "name": "#%%\n"
    }
   }
  }
 ],
 "metadata": {
  "kernelspec": {
   "display_name": "Python 3",
   "language": "python",
   "name": "python3"
  },
  "language_info": {
   "codemirror_mode": {
    "name": "ipython",
    "version": 2
   },
   "file_extension": ".py",
   "mimetype": "text/x-python",
   "name": "python",
   "nbconvert_exporter": "python",
   "pygments_lexer": "ipython2",
   "version": "2.7.6"
  }
 },
 "nbformat": 4,
 "nbformat_minor": 0
}